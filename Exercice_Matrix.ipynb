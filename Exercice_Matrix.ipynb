{
 "cells": [
  {
   "cell_type": "markdown",
   "metadata": {},
   "source": [
    "Exercice 7"
   ]
  },
  {
   "cell_type": "code",
   "execution_count": 4,
   "metadata": {},
   "outputs": [
    {
     "name": "stdout",
     "output_type": "stream",
     "text": [
      "[[1 2 1 1]\n",
      " [0 1 2 1]\n",
      " [1 0 1 2]\n",
      " [2 1 0 1]]\n",
      "[0 0 1 0]\n",
      "-4.0\n",
      "[-0.5  0.  -0.5  1. ]\n"
     ]
    },
    {
     "data": {
      "text/plain": [
       "array([0., 0., 1., 0.])"
      ]
     },
     "execution_count": 4,
     "metadata": {},
     "output_type": "execute_result"
    }
   ],
   "source": [
    "import numpy as np\n",
    "lol = [[1,2,1,1],[0,1,2,1],[1,0,1,2],[2,1,0,1]]\n",
    "lol = np.array(lol)\n",
    "mdr = np.array([0,0,1,0])\n",
    "print(lol)\n",
    "print(mdr)\n",
    "print(np.linalg.det(lol))\n",
    "solve = np.linalg.solve(lol,mdr)\n",
    "print(solve)\n",
    "np.dot(lol,solve)"
   ]
  },
  {
   "cell_type": "markdown",
   "metadata": {},
   "source": [
    "Exercice 5"
   ]
  },
  {
   "cell_type": "code",
   "execution_count": 17,
   "metadata": {},
   "outputs": [
    {
     "name": "stdout",
     "output_type": "stream",
     "text": [
      "49.0\n"
     ]
    }
   ],
   "source": [
    "matrice = np.arange(50*50).reshape(50,50)\n",
    "def oups(x):\n",
    "    i = 0\n",
    "    happy = list()\n",
    "    ra = np.array(x)\n",
    "    happy = np.array(happy)\n",
    "    for i in range(np.size(ra,1)):\n",
    "            j = 1; \n",
    "            for j in range(np.size(ra,0)):\n",
    "                thingy = np.absolute(ra[i][j] - ra[i][j-1])\n",
    "                happy = np.append(happy, thingy)\n",
    "    return np.max(happy)\n",
    "print(oups(matrice))"
   ]
  },
  {
   "cell_type": "markdown",
   "metadata": {},
   "source": [
    "Exercie 3"
   ]
  },
  {
   "cell_type": "code",
   "execution_count": 23,
   "metadata": {},
   "outputs": [
    {
     "name": "stdout",
     "output_type": "stream",
     "text": [
      "[[1. 0. 0. 0. 0. 0. 0. 1.]\n",
      " [1. 0. 0. 0. 0. 0. 0. 1.]\n",
      " [1. 0. 0. 0. 0. 0. 0. 1.]\n",
      " [1. 0. 0. 0. 0. 0. 0. 1.]\n",
      " [1. 0. 0. 0. 0. 0. 0. 1.]\n",
      " [1. 0. 0. 0. 0. 0. 0. 1.]\n",
      " [1. 0. 0. 0. 0. 0. 0. 1.]\n",
      " [1. 1. 1. 1. 1. 1. 1. 1.]]\n"
     ]
    }
   ],
   "source": [
    "meh = np.full((1,8),1)\n",
    "meh = np.append(meh, [])\n",
    "\n",
    "meh_cpy = np.copy(meh)\n",
    "meeuh = (np.full((1,7),0))\n",
    "meeuh = np.append(meeuh, [1])\n",
    "i = 0\n",
    "for i in range(6):\n",
    "    meh = np.column_stack((meh,meeuh))\n",
    "meh = np.column_stack((meh,meh_cpy))\n",
    "print(meh)\n"
   ]
  },
  {
   "cell_type": "code",
   "execution_count": 29,
   "metadata": {},
   "outputs": [
    {
     "name": "stdout",
     "output_type": "stream",
     "text": [
      "[[1. 0. 0. 0. 0. 0. 0. 1.]\n",
      " [1. 0. 0. 0. 0. 0. 0. 1.]\n",
      " [1. 0. 0. 0. 0. 0. 0. 1.]\n",
      " [1. 0. 0. 0. 0. 0. 0. 1.]\n",
      " [1. 0. 0. 0. 0. 0. 0. 1.]\n",
      " [1. 0. 0. 0. 0. 0. 0. 1.]\n",
      " [1. 0. 0. 0. 0. 0. 0. 1.]\n",
      " [1. 1. 1. 1. 1. 1. 1. 1.]]\n"
     ]
    }
   ],
   "source": [
    "machin = np.zeros((7,6))\n",
    "truc = np.full((7,1),1)\n",
    "\n",
    "fruit = np.full((1,8),1)\n",
    "\n",
    "ploup = np.concatenate((truc,machin,truc), 1) #1 valeur des axes (ordonné)\n",
    "\n",
    "ploup = np.concatenate((ploup,fruit), 0) # 0 abscisse \n",
    "print(ploup)\n"
   ]
  },
  {
   "cell_type": "markdown",
   "metadata": {},
   "source": [
    "Exercice 1"
   ]
  },
  {
   "cell_type": "code",
   "execution_count": 34,
   "metadata": {},
   "outputs": [
    {
     "name": "stdout",
     "output_type": "stream",
     "text": [
      "[ 0.          0.6473542  -1.55788258 -0.98942575 -0.77129492 -1.46098962\n",
      " -0.63470416  1.4505833  -1.39165137  0.2355202   1.56734572  1.4224189\n",
      "  1.56400388  0.71020939 -1.57078197  1.52444478 -1.47109066 -0.3714248\n",
      "  0.88955203  0.87809717 -0.41168052 -1.44537754  1.54491339 -1.56530168\n",
      "  0.57112995  1.57042833  1.497909    1.53420846 -0.02685925 -1.23366009\n",
      "  1.29939169 -0.30502216 -1.55587358 -1.09244783]\n",
      "1.5704283348055927\n"
     ]
    },
    {
     "data": {
      "text/plain": [
       "1.5704283348055927"
      ]
     },
     "execution_count": 34,
     "metadata": {},
     "output_type": "execute_result"
    }
   ],
   "source": [
    "A = np.arange(0,100,3)\n",
    "\n",
    "B = np.sin(A*A)*(np.pi/2) #np.sin donne une val entre -1 et 1 \n",
    "print(B)\n",
    "C = np.max(B)\n",
    "print(C)\n",
    "\n",
    "np.sum([B==C])"
   ]
  },
  {
   "cell_type": "markdown",
   "metadata": {},
   "source": [
    "Exo 2"
   ]
  },
  {
   "cell_type": "code",
   "execution_count": null,
   "metadata": {},
   "outputs": [],
   "source": [
    "X = [[1,2,3],\n",
    "    [4,5,6],\n",
    "    [0,0,9]]\n",
    "X = np.array(X)\n",
    "def coucou(M):\n",
    "    return (M == np.triu(np.tril(M))).all()\n",
    "def salut(M):\n",
    "    return (M == np.triu(M)).all()"
   ]
  },
  {
   "cell_type": "markdown",
   "metadata": {},
   "source": [
    "Exo 4"
   ]
  },
  {
   "cell_type": "code",
   "execution_count": 42,
   "metadata": {},
   "outputs": [
    {
     "data": {
      "text/plain": [
       "10"
      ]
     },
     "execution_count": 42,
     "metadata": {},
     "output_type": "execute_result"
    }
   ],
   "source": [
    "\n",
    "def hoho(n):\n",
    "    i = 0\n",
    "    res = 0\n",
    "    for i in range(n+1):\n",
    "        res = res + i\n",
    "        \n",
    "        print(str(i) + \" \" + str(res))\n",
    "    return res\n",
    "\n",
    "def haha(n):\n",
    "    return np.sum(np.arange(n+1))\n"
   ]
  },
  {
   "cell_type": "markdown",
   "metadata": {},
   "source": [
    "Exercice 6"
   ]
  },
  {
   "cell_type": "code",
   "execution_count": 49,
   "metadata": {},
   "outputs": [
    {
     "name": "stdout",
     "output_type": "stream",
     "text": [
      "[[0.33074926 0.38480567 0.57998844 ... 0.92684997 0.85767452 0.74049978]\n",
      " [0.03868936 0.50954033 0.3013898  ... 0.08600607 0.63148548 0.64304793]\n",
      " [0.36859282 0.31937753 0.04148933 ... 0.33294128 0.92568301 0.43274967]\n",
      " ...\n",
      " [0.13502272 0.22948432 0.88993061 ... 0.07196434 0.13466195 0.3196376 ]\n",
      " [0.51644816 0.087232   0.91244194 ... 0.46515869 0.74296205 0.1308394 ]\n",
      " [0.91699234 0.7790765  0.41161053 ... 0.19446655 0.87074118 0.89744457]]\n",
      "1276\n",
      "[[0. 0. 1. ... 1. 1. 1.]\n",
      " [0. 1. 0. ... 0. 1. 1.]\n",
      " [0. 0. 0. ... 0. 1. 0.]\n",
      " ...\n",
      " [0. 0. 1. ... 0. 0. 0.]\n",
      " [1. 0. 1. ... 0. 1. 0.]\n",
      " [1. 1. 0. ... 0. 1. 1.]]\n"
     ]
    }
   ],
   "source": [
    "import numpy as np\n",
    "\n",
    "ko = np.random.rand(50,50) # fct rand = nbre aléatoire entre 0 et 1 np.random = fonctions numpy qui crée des nbres aléatoires\n",
    "i = 0\n",
    "print(ko)\n",
    "print(np.sum(ko<0.5))\n",
    "for i in range(len(ko)): #ou range(np.size(ko,1))\n",
    "    j = 0\n",
    "    for j in range(len(ko[i])): #ou range(np.size(ko,0))\n",
    "        if (ko[i][j] < 0.5):\n",
    "            ko[i][j] = 0\n",
    "        else:\n",
    "            ko[i][j] = 1\n",
    "\n",
    "print(ko)\n",
    "        "
   ]
  },
  {
   "cell_type": "code",
   "execution_count": null,
   "metadata": {},
   "outputs": [],
   "source": []
  }
 ],
 "metadata": {
  "kernelspec": {
   "display_name": "Python 3",
   "language": "python",
   "name": "python3"
  },
  "language_info": {
   "codemirror_mode": {
    "name": "ipython",
    "version": 3
   },
   "file_extension": ".py",
   "mimetype": "text/x-python",
   "name": "python",
   "nbconvert_exporter": "python",
   "pygments_lexer": "ipython3",
   "version": "3.7.0"
  }
 },
 "nbformat": 4,
 "nbformat_minor": 2
}
